{
 "cells": [
  {
   "cell_type": "code",
   "execution_count": 1,
   "id": "3e1b4cc8",
   "metadata": {},
   "outputs": [],
   "source": [
    "import pandas as pd\n",
    "\n",
    "llm_narratives = pd.read_csv('../../data/output/llm_generated_narratives_on_shap.csv.gz', compression='gzip')\n",
    "llm_judge = pd.read_csv('../../data/output/llm_judge_evaluation_results.csv.gz', compression='gzip').drop(columns=['index'])\n"
   ]
  },
  {
   "cell_type": "code",
   "execution_count": 2,
   "id": "a075c989",
   "metadata": {},
   "outputs": [],
   "source": [
    "import ast\n",
    "\n",
    "combined_llm_narratives_and_judge = pd.concat([llm_narratives, llm_judge], axis=1)\n",
    "combined_llm_narratives_and_judge.index = pd.RangeIndex(start=1, stop=len(combined_llm_narratives_and_judge)+1)\n",
    "\n",
    "def get_top_shap_values(shap_str, top_n=5):\n",
    "    # Convert string to list if needed\n",
    "    if isinstance(shap_str, str):\n",
    "        shap_list = ast.literal_eval(shap_str)\n",
    "    else:\n",
    "        shap_list = shap_str\n",
    "    # Sort and get top N values\n",
    "    return sorted(shap_list, reverse=True)[:top_n]\n",
    "\n",
    "# Add columns for top 3 and top 5 SHAP values\n",
    "combined_llm_narratives_and_judge['top3_shap_values'] = combined_llm_narratives_and_judge['shap_values'].apply(lambda x: get_top_shap_values(x, top_n=3))\n",
    "combined_llm_narratives_and_judge['top5_shap_values'] = combined_llm_narratives_and_judge['shap_values'].apply(lambda x: get_top_shap_values(x, top_n=5))"
   ]
  },
  {
   "cell_type": "code",
   "execution_count": 3,
   "id": "4eaa9421",
   "metadata": {},
   "outputs": [],
   "source": [
    "combined_llm_narratives_and_judge.to_csv(\"../../data/output/combined_llm_narratives_and_judge.csv.gz\", index=True)"
   ]
  },
  {
   "cell_type": "code",
   "execution_count": 4,
   "id": "19d4f883",
   "metadata": {},
   "outputs": [
    {
     "data": {
      "text/html": [
       "<div>\n",
       "<style scoped>\n",
       "    .dataframe tbody tr th:only-of-type {\n",
       "        vertical-align: middle;\n",
       "    }\n",
       "\n",
       "    .dataframe tbody tr th {\n",
       "        vertical-align: top;\n",
       "    }\n",
       "\n",
       "    .dataframe thead th {\n",
       "        text-align: right;\n",
       "    }\n",
       "</style>\n",
       "<table border=\"1\" class=\"dataframe\">\n",
       "  <thead>\n",
       "    <tr style=\"text-align: right;\">\n",
       "      <th></th>\n",
       "      <th>column_descriptions</th>\n",
       "      <th>meta_data_description</th>\n",
       "      <th>explanation</th>\n",
       "      <th>shap_values</th>\n",
       "      <th>predicted_label</th>\n",
       "      <th>generate_bad_narrative</th>\n",
       "      <th>evaluation</th>\n",
       "      <th>top3_shap_values</th>\n",
       "      <th>top5_shap_values</th>\n",
       "    </tr>\n",
       "  </thead>\n",
       "  <tbody>\n",
       "    <tr>\n",
       "      <th>1</th>\n",
       "      <td>\"\\n    ## Column Description\\n\\n    1. **gende...</td>\n",
       "      <td>The provided data represents a customer profil...</td>\n",
       "      <td>The prediction of a churn result of 0 for this...</td>\n",
       "      <td>{'gender_M': -0.08057107776403427, 'region_cat...</td>\n",
       "      <td>0</td>\n",
       "      <td>False</td>\n",
       "      <td>{'factual_accuracy': {'score': 3, 'justificati...</td>\n",
       "      <td>[year, used_special_discount_Yes, region_categ...</td>\n",
       "      <td>[year, used_special_discount_Yes, region_categ...</td>\n",
       "    </tr>\n",
       "    <tr>\n",
       "      <th>2</th>\n",
       "      <td>\"\\n    ## Column Description\\n\\n    1. **gende...</td>\n",
       "      <td>The provided data represents a customer profil...</td>\n",
       "      <td>The churn prediction model indicates a score o...</td>\n",
       "      <td>{'gender_M': -0.14104054868221283, 'region_cat...</td>\n",
       "      <td>0</td>\n",
       "      <td>False</td>\n",
       "      <td>{'factual_accuracy': {'score': 3, 'justificati...</td>\n",
       "      <td>[year, used_special_discount_Yes, region_categ...</td>\n",
       "      <td>[year, used_special_discount_Yes, region_categ...</td>\n",
       "    </tr>\n",
       "    <tr>\n",
       "      <th>3</th>\n",
       "      <td>\"\\n    ## Column Description\\n\\n    1. **gende...</td>\n",
       "      <td>The provided data represents a customer's prof...</td>\n",
       "      <td>The prediction of churn being 0 for this custo...</td>\n",
       "      <td>{'gender_M': 0.05701407417654991, 'region_cate...</td>\n",
       "      <td>0</td>\n",
       "      <td>False</td>\n",
       "      <td>{'factual_accuracy': {'score': 3, 'justificati...</td>\n",
       "      <td>[year, used_special_discount_Yes, region_categ...</td>\n",
       "      <td>[year, used_special_discount_Yes, region_categ...</td>\n",
       "    </tr>\n",
       "  </tbody>\n",
       "</table>\n",
       "</div>"
      ],
      "text/plain": [
       "                                 column_descriptions  \\\n",
       "1  \"\\n    ## Column Description\\n\\n    1. **gende...   \n",
       "2  \"\\n    ## Column Description\\n\\n    1. **gende...   \n",
       "3  \"\\n    ## Column Description\\n\\n    1. **gende...   \n",
       "\n",
       "                               meta_data_description  \\\n",
       "1  The provided data represents a customer profil...   \n",
       "2  The provided data represents a customer profil...   \n",
       "3  The provided data represents a customer's prof...   \n",
       "\n",
       "                                         explanation  \\\n",
       "1  The prediction of a churn result of 0 for this...   \n",
       "2  The churn prediction model indicates a score o...   \n",
       "3  The prediction of churn being 0 for this custo...   \n",
       "\n",
       "                                         shap_values  predicted_label  \\\n",
       "1  {'gender_M': -0.08057107776403427, 'region_cat...                0   \n",
       "2  {'gender_M': -0.14104054868221283, 'region_cat...                0   \n",
       "3  {'gender_M': 0.05701407417654991, 'region_cate...                0   \n",
       "\n",
       "   generate_bad_narrative                                         evaluation  \\\n",
       "1                   False  {'factual_accuracy': {'score': 3, 'justificati...   \n",
       "2                   False  {'factual_accuracy': {'score': 3, 'justificati...   \n",
       "3                   False  {'factual_accuracy': {'score': 3, 'justificati...   \n",
       "\n",
       "                                    top3_shap_values  \\\n",
       "1  [year, used_special_discount_Yes, region_categ...   \n",
       "2  [year, used_special_discount_Yes, region_categ...   \n",
       "3  [year, used_special_discount_Yes, region_categ...   \n",
       "\n",
       "                                    top5_shap_values  \n",
       "1  [year, used_special_discount_Yes, region_categ...  \n",
       "2  [year, used_special_discount_Yes, region_categ...  \n",
       "3  [year, used_special_discount_Yes, region_categ...  "
      ]
     },
     "execution_count": 4,
     "metadata": {},
     "output_type": "execute_result"
    }
   ],
   "source": [
    "combined_llm_narratives_and_judge.head(3)"
   ]
  }
 ],
 "metadata": {
  "kernelspec": {
   "display_name": "py3.11",
   "language": "python",
   "name": "python3"
  },
  "language_info": {
   "codemirror_mode": {
    "name": "ipython",
    "version": 3
   },
   "file_extension": ".py",
   "mimetype": "text/x-python",
   "name": "python",
   "nbconvert_exporter": "python",
   "pygments_lexer": "ipython3",
   "version": "3.11.11"
  }
 },
 "nbformat": 4,
 "nbformat_minor": 5
}
